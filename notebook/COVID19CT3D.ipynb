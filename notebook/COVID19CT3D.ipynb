{
  "nbformat": 4,
  "nbformat_minor": 0,
  "metadata": {
    "colab": {
      "name": "COVID19CT3D.ipynb",
      "provenance": [],
      "collapsed_sections": [
        "7wMMhps4xwtS",
        "OvK8nPo1yi2i",
        "ODpVQQy50Si9",
        "jzeLw3Cl1NIA",
        "K50Sz6U_1XxO"
      ]
    },
    "kernelspec": {
      "name": "python3",
      "display_name": "Python 3"
    },
    "language_info": {
      "name": "python"
    },
    "accelerator": "GPU",
    "gpuClass": "standard"
  },
  "cells": [
    {
      "cell_type": "markdown",
      "metadata": {
        "id": "view-in-github",
        "colab_type": "text"
      },
      "source": [
        "<a href=\"https://colab.research.google.com/github/reshalfahsi/covid19ct3d/blob/master/notebook/COVID19CT3D.ipynb\" target=\"_parent\"><img src=\"https://colab.research.google.com/assets/colab-badge.svg\" alt=\"Open In Colab\"/></a>"
      ]
    },
    {
      "cell_type": "markdown",
      "source": [
        "# **COVID-19 Classification from 3D CT Images**\n",
        "\n",
        "This tutorial will teach you how to train a Deep Learning model based on 3D Convolution. This model will classify whether the volumetric medical image from a 3D CT scan of the thorax is infected by COVID-19 or not. The model's output is a single-valued tensor that represents the probability of being infected by COVID-19. This tutorial is based on https://github.com/hasibzunair/3D-image-classification-tutorial."
      ],
      "metadata": {
        "id": "hF6AIyeexncY"
      }
    },
    {
      "cell_type": "markdown",
      "source": [
        "## **Prerequisite**\n",
        "\n",
        "First, we will connect to our google drive to save the dataset, required tools, and the prediction result. Then, we clone this [github repository](https://github.com/reshalfahsi/covid19ct3d) for training and prediction purposes. Thus, we install the package and are ready to use the CLI that is provided from it."
      ],
      "metadata": {
        "id": "7wMMhps4xwtS"
      }
    },
    {
      "cell_type": "code",
      "execution_count": null,
      "metadata": {
        "id": "l_6XLkZexQSe"
      },
      "outputs": [],
      "source": [
        "from google.colab import drive\n",
        "drive.mount('/content/gdrive', force_remount=False)\n",
        "\n",
        "%cd \"/content/gdrive/My Drive/\""
      ]
    },
    {
      "cell_type": "code",
      "source": [
        "!git clone https://github.com/reshalfahsi/covid19ct3d\n",
        "%cd \"/content/gdrive/My Drive/covid19ct3d\"\n",
        "!pip install ."
      ],
      "metadata": {
        "id": "mSqLRyUe56p_"
      },
      "execution_count": null,
      "outputs": []
    },
    {
      "cell_type": "markdown",
      "source": [
        "## **Dataset Preparation**\n",
        "\n",
        "We use subset of the [MosMedData: Chest CT Scans with COVID-19 Related Findings](https://www.medrxiv.org/content/10.1101/2020.05.20.20100362v1). This dataset consists of lung CT scans with COVID-19 related findings, as well as without such findings. We put the dataset in `dataset` directory of the repository."
      ],
      "metadata": {
        "id": "OvK8nPo1yi2i"
      }
    },
    {
      "cell_type": "code",
      "source": [
        "%cd \"/content/gdrive/My Drive/covid19ct3d/dataset\"\n",
        "!bash \"/content/gdrive/My Drive/covid19ct3d/dataset/dataset.sh\"\n",
        "%cd \"/content/gdrive/My Drive/covid19ct3d\""
      ],
      "metadata": {
        "id": "GuWLyj30yn-4"
      },
      "execution_count": null,
      "outputs": []
    },
    {
      "cell_type": "markdown",
      "source": [
        "## **Training**\n",
        "\n",
        "We use the command `covid19ct3d train` to commence the training procedure. We could set the value of epoch `--epoch`, learning rate `--lr`, input dimension `--trainsize`, path to the dataset `--train_path`, path of the saved model `--train_save`, and augmentation `--augmentation`. Use `covid19ct3d train --help` for further information."
      ],
      "metadata": {
        "id": "ODpVQQy50Si9"
      }
    },
    {
      "cell_type": "code",
      "source": [
        "!covid19ct3d train \\\n",
        "--epoch 30 \\\n",
        "--lr 1e-2 \\\n",
        "--batchsize 2 \\\n",
        "--trainsize \"128 128 64\" \\\n",
        "--train_path \"/content/gdrive/My Drive/covid19ct3d/dataset\" \\\n",
        "--train_save \"/content/gdrive/My Drive/covid19ct3d/model\" \\\n",
        "--augmentation"
      ],
      "metadata": {
        "id": "V14is_gy0Xa6"
      },
      "execution_count": null,
      "outputs": []
    },
    {
      "cell_type": "markdown",
      "source": [
        "## **Predict**\n",
        "\n",
        "After training process, we could perform the prediction against our custom input. Use the command `covid19ct3d predict` to predict whether the input is COVID-19 infected or not. Don't forget to set input dimension `--predict_size`, path to the saved model `--pth_path`, and path to the input `--data_path` value. For more details, use `covid19ct3d predict --help`. Check your google drive for the visualization of input data are presented in the form of image and video. "
      ],
      "metadata": {
        "id": "jzeLw3Cl1NIA"
      }
    },
    {
      "cell_type": "code",
      "source": [
        "!covid19ct3d predict \\\n",
        "--predict_size \"128 128 64\" \\\n",
        "--pth_path \"/content/gdrive/My Drive/covid19ct3d/model/COVID19CT3D.pth\" \\\n",
        "--data_path \"/content/gdrive/My Drive/covid19ct3d/dataset/CT-23/study_0982.nii.gz\""
      ],
      "metadata": {
        "id": "u68U6jFU1S2P"
      },
      "execution_count": null,
      "outputs": []
    },
    {
      "cell_type": "markdown",
      "source": [
        "## **Model Information**\n",
        "\n",
        "Generate the information about the number of parameters and floating-point operations used in the model."
      ],
      "metadata": {
        "id": "K50Sz6U_1XxO"
      }
    },
    {
      "cell_type": "code",
      "source": [
        "!covid19ct3d info"
      ],
      "metadata": {
        "id": "ErYJ5Ggs1ciI"
      },
      "execution_count": null,
      "outputs": []
    }
  ]
}
